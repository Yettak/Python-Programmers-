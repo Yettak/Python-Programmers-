{
 "cells": [
  {
   "cell_type": "code",
   "execution_count": 1,
   "id": "d47b6c9d",
   "metadata": {},
   "outputs": [
    {
     "name": "stdout",
     "output_type": "stream",
     "text": [
      "aBcDeFg\n",
      "AbCdEfG\n"
     ]
    }
   ],
   "source": [
    "str = input()\n",
    "print(str.swapcase())"
   ]
  },
  {
   "cell_type": "code",
   "execution_count": 3,
   "id": "78794ecb",
   "metadata": {},
   "outputs": [
    {
     "name": "stdout",
     "output_type": "stream",
     "text": [
      "aBcD\n",
      "AbCd\n"
     ]
    }
   ],
   "source": [
    "str = input()\n",
    "result = ''\n",
    "\n",
    "for i in str:\n",
    "    if(i.isupper()):\n",
    "        result = result + i.lower()\n",
    "    else:\n",
    "        result = result + i.upper()\n",
    "        \n",
    "print(result)"
   ]
  }
 ],
 "metadata": {
  "kernelspec": {
   "display_name": "Python 3 (ipykernel)",
   "language": "python",
   "name": "python3"
  },
  "language_info": {
   "codemirror_mode": {
    "name": "ipython",
    "version": 3
   },
   "file_extension": ".py",
   "mimetype": "text/x-python",
   "name": "python",
   "nbconvert_exporter": "python",
   "pygments_lexer": "ipython3",
   "version": "3.9.12"
  }
 },
 "nbformat": 4,
 "nbformat_minor": 5
}
